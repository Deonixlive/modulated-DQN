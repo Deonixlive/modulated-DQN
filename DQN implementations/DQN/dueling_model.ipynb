{
 "cells": [
  {
   "cell_type": "code",
   "execution_count": null,
   "id": "361d9f3b",
   "metadata": {},
   "outputs": [],
   "source": [
    "import tensorflow as tf\n",
    "import numpy as np\n"
   ]
  },
  {
   "cell_type": "code",
   "execution_count": null,
   "id": "d5c6d68b",
   "metadata": {},
   "outputs": [],
   "source": [
    "def normc_initializer(std: float = 1.0):\n",
    "    def _initializer(shape, dtype=None):\n",
    "        out = np.random.randn(*shape).astype(\n",
    "            dtype.name if hasattr(dtype, \"name\") else dtype or np.float32\n",
    "        )\n",
    "        out *= std / np.sqrt(np.square(out).sum(axis=0, keepdims=True))\n",
    "        return tf.constant(out)\n",
    "    return _initializer\n",
    "\n",
    "class DuelingModel(tf.keras.Model):\n",
    "    def __init__(self, input_shape, num_outputs):\n",
    "        \n",
    "        super().__init__(self)\n",
    "\n",
    "#         print(obs_space)\n",
    "        self.inputs = tf.keras.layers.Input(shape=input_shape,\n",
    "                                           name=\"input_layer\")\n",
    "        layer1 = tf.keras.layers.Conv2D(32, 8, strides=4,\n",
    "                                       name=\"layer1\",\n",
    "                                       activation=tf.nn.relu,\n",
    "                                       kernel_initializer=normc_initializer(1.0)\n",
    "                                       )(self.inputs)\n",
    "        layer2 = tf.keras.layers.Conv2D(64, 4, strides=2,\n",
    "                                       name=\"layer2\",\n",
    "                                       activation=tf.nn.relu,\n",
    "                                       kernel_initializer=normc_initializer(1.0)\n",
    "                                       )(layer1)\n",
    "        layer3 = tf.keras.layers.Conv2D(64, 3, strides=1,\n",
    "                                       name=\"layer3\",\n",
    "                                       activation=tf.nn.relu,\n",
    "                                       kernel_initializer=normc_initializer(1.0)\n",
    "                                       )(layer2)\n",
    "        flatten = tf.keras.layers.Flatten()(layer3)\n",
    "        #split stream\n",
    "        value_stream = dense = tf.keras.layers.Dense(512,\n",
    "                                        activation=tf.nn.relu,\n",
    "                                        name=\"value_stream\",\n",
    "                                        kernel_initializer=normc_initializer(1.0)\n",
    "                                        )(flatten)\n",
    "        \n",
    "        advantage_stream = tf.keras.layers.Dense(512,\n",
    "                                        activation=tf.nn.relu,\n",
    "                                        name=\"advantage_stream\",\n",
    "                                        kernel_initializer=normc_initializer(1.0)\n",
    "                                        )(flatten)\n",
    "        value_out = dense = tf.keras.layers.Dense(1,\n",
    "                                        activation=None,\n",
    "                                        name=\"value_out\",\n",
    "                                        kernel_initializer=normc_initializer(1.0)\n",
    "                                        )(flatten)\n",
    "        advantage_out = dense = tf.keras.layers.Dense(num_outputs,\n",
    "                                        activation=None,\n",
    "                                        name=\"advantage_out\",\n",
    "                                        kernel_initializer=normc_initializer(1.0)\n",
    "                                        )(flatten)\n",
    "        #Version with advantage mean, to solve unidentifiabilty\n",
    "        self.q_out = (value_out + (advantage_out - tf.math.reduce_mean(advantage_out, axis=1, keepdims=True)))\n",
    "\n",
    "        #doesnt output the actual q-values. this is handled in the q-head\n",
    "        self.base_model = tf.keras.Model(inputs=self.inputs, outputs=self.q_out)\n",
    "        \n",
    "        def call(self, inputs):\n",
    "            return self.base_model(inputs)\n",
    "        "
   ]
  },
  {
   "cell_type": "code",
   "execution_count": null,
   "id": "f0143efb",
   "metadata": {},
   "outputs": [],
   "source": []
  },
  {
   "cell_type": "code",
   "execution_count": null,
   "id": "d76e783d",
   "metadata": {},
   "outputs": [],
   "source": []
  }
 ],
 "metadata": {
  "kernelspec": {
   "display_name": "Python 3 (ipykernel)",
   "language": "python",
   "name": "python3"
  },
  "language_info": {
   "codemirror_mode": {
    "name": "ipython",
    "version": 3
   },
   "file_extension": ".py",
   "mimetype": "text/x-python",
   "name": "python",
   "nbconvert_exporter": "python",
   "pygments_lexer": "ipython3",
   "version": "3.8.0"
  }
 },
 "nbformat": 4,
 "nbformat_minor": 5
}
